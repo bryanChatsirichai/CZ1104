{
 "cells": [
  {
   "cell_type": "code",
   "execution_count": 6,
   "id": "involved-bracket",
   "metadata": {},
   "outputs": [],
   "source": [
    "# Transform a matrix to reduced row echelon form\n",
    " \n",
    "import numpy as np\n",
    "\n",
    "'''Function to transform a matrix to reduced row echelon form'''\n",
    "def rref(A):\n",
    "    tol = 1e-16\n",
    "    #A = B.copy()\n",
    "    rows, cols = A.shape\n",
    "    r = 0\n",
    "    pivots_pos = []\n",
    "    row_exchanges = np.arange(rows)\n",
    "    for c in range(cols):\n",
    "        ## Find the pivot row:\n",
    "        pivot = np.argmax (np.abs (A[r:rows,c])) + r\n",
    "        m = np.abs(A[pivot, c])\n",
    "        if m <= tol:\n",
    "        ## Skip column c, making sure the approximately zero terms are\n",
    "        ## actually zero.\n",
    "            A[r:rows, c] = np.zeros(rows-r)\n",
    "        else:\n",
    "            ## keep track of bound variables\n",
    "            pivots_pos.append((r,c))\n",
    "\n",
    "            if pivot != r:\n",
    "                ## Swap current row and pivot row\n",
    "                A[[pivot, r], c:cols] = A[[r, pivot], c:cols]\n",
    "                row_exchanges[[pivot,r]] = row_exchanges[[r,pivot]]\n",
    "\n",
    "            ## Normalize pivot row\n",
    "            A[r, c:cols] = A[r, c:cols] / A[r, c];\n",
    "\n",
    "            ## Eliminate the current column\n",
    "            v = A[r, c:cols]\n",
    "            ## Above (before row r):\n",
    "            if r > 0:\n",
    "                ridx_above = np.arange(r)\n",
    "                A[ridx_above, c:cols] = A[ridx_above, c:cols] - np.outer(v, A[ridx_above, c]).T\n",
    "                ## Below (after row r):\n",
    "            if r < rows-1:\n",
    "                ridx_below = np.arange(r+1,rows)\n",
    "                A[ridx_below, c:cols] = A[ridx_below, c:cols] - np.outer(v, A[ridx_below, c]).T\n",
    "                r += 1\n",
    "        ## Check if done\n",
    "        if r == rows:\n",
    "            break;\n",
    "    return A\n"
   ]
  },
  {
   "cell_type": "code",
   "execution_count": null,
   "id": "sudden-mainstream",
   "metadata": {},
   "outputs": [],
   "source": []
  },
  {
   "cell_type": "code",
   "execution_count": 16,
   "id": "fundamental-soccer",
   "metadata": {},
   "outputs": [
    {
     "name": "stdout",
     "output_type": "stream",
     "text": [
      "freind matrix\n",
      " [[0 1 1 1]\n",
      " [1 0 1 0]\n",
      " [1 1 0 1]\n",
      " [0 1 1 0]]\n",
      "\n",
      "\n",
      "Linking matrix\n",
      " [[0.         0.33333333 0.33333333 0.5       ]\n",
      " [0.5        0.         0.33333333 0.        ]\n",
      " [0.5        0.33333333 0.         0.5       ]\n",
      " [0.         0.33333333 0.33333333 0.        ]]\n"
     ]
    }
   ],
   "source": [
    "# A,B,C,D friend matrix\n",
    "F = np.array([[0,1,1,1],\n",
    "              [1,0,1,0],\n",
    "              [1,1,0,1],\n",
    "              [0,1,1,0]])\n",
    "\n",
    "#Linking matrix\n",
    "L = np.array([[0,1/3,1/3,1/2],\n",
    "              [1/2,0,1/3,0],\n",
    "              [1/2,1/3,0,1/2],\n",
    "              [0,1/3,1/3,0]])\n",
    "\n",
    "print(\"freind matrix\\n\",F)\n",
    "print('\\n')\n",
    "print(\"Linking matrix\\n\",L)\n"
   ]
  },
  {
   "cell_type": "code",
   "execution_count": 17,
   "id": "smaller-starter",
   "metadata": {},
   "outputs": [
    {
     "name": "stdout",
     "output_type": "stream",
     "text": [
      "[[1. 0. 0. 0.]\n",
      " [0. 1. 0. 0.]\n",
      " [0. 0. 1. 0.]\n",
      " [0. 0. 0. 1.]]\n",
      "[[-6.  2.  2.  3.]\n",
      " [ 3. -6.  2.  0.]\n",
      " [ 3.  2. -6.  3.]\n",
      " [ 0.  2.  2. -6.]]\n"
     ]
    }
   ],
   "source": [
    "# 4x4 Identity transformation matrix\n",
    "I = np.eye(4) #float\n",
    "print(I)\n",
    "\n",
    "#L - I\n",
    "A = (L - I)*6 #make matrix to whole number for eaiser to row reduce\n",
    "print(A)"
   ]
  },
  {
   "cell_type": "code",
   "execution_count": 9,
   "id": "anonymous-conflict",
   "metadata": {},
   "outputs": [
    {
     "data": {
      "text/plain": [
       "array([[-6.,  2.,  2.,  3.,  0.],\n",
       "       [ 3., -6.,  2.,  0.,  0.],\n",
       "       [ 3.,  2., -6.,  3.,  0.],\n",
       "       [ 0.,  2.,  2., -6.,  0.]])"
      ]
     },
     "execution_count": 9,
     "metadata": {},
     "output_type": "execute_result"
    }
   ],
   "source": [
    "AguA = np.array([[-1.,1/3,1/3,0.5,0.],\n",
    "                [ 0.5, -1.  ,1/3  ,0.,0.],\n",
    "                [ 0.5,1/3 ,-1.,0.5,0.],\n",
    "                [ 0.,1/3  ,1/3 ,-1. ,0.]])\n",
    "AguA = AguA * 6\n",
    "AguA"
   ]
  },
  {
   "cell_type": "code",
   "execution_count": 10,
   "id": "minute-accuracy",
   "metadata": {},
   "outputs": [
    {
     "data": {
      "text/plain": [
       "array([[ 1.    ,  0.    ,  0.    , -1.5   ],\n",
       "       [ 0.    ,  1.    ,  0.    , -1.3125],\n",
       "       [ 0.    ,  0.    ,  1.    , -1.6875],\n",
       "       [ 0.    ,  0.    ,  0.    ,  0.    ]])"
      ]
     },
     "execution_count": 10,
     "metadata": {},
     "output_type": "execute_result"
    }
   ],
   "source": [
    "rref((L-I)*6)"
   ]
  },
  {
   "cell_type": "code",
   "execution_count": 19,
   "id": "spectacular-sunglasses",
   "metadata": {},
   "outputs": [
    {
     "data": {
      "text/plain": [
       "array([[ 1.    ,  0.    ,  0.    , -1.5   , -0.    ],\n",
       "       [ 0.    ,  1.    ,  0.    , -1.3125,  0.    ],\n",
       "       [ 0.    ,  0.    ,  1.    , -1.6875,  0.    ],\n",
       "       [ 0.    ,  0.    ,  0.    ,  0.    ,  0.    ]])"
      ]
     },
     "execution_count": 19,
     "metadata": {},
     "output_type": "execute_result"
    }
   ],
   "source": [
    "echelon_A = rref(AguA)\n",
    "echelon_A"
   ]
  },
  {
   "cell_type": "code",
   "execution_count": 24,
   "id": "saved-designation",
   "metadata": {},
   "outputs": [
    {
     "name": "stdout",
     "output_type": "stream",
     "text": [
      "poplarity vector \n",
      "rA:  1.5\n",
      "rB:  1.3125\n",
      "rC:  1.6875\n",
      "rD: free variable\n"
     ]
    }
   ],
   "source": [
    "print(\"poplarity vector \")\n",
    "print(\"rA: \",abs(echelon_A[0][3]))\n",
    "print(\"rB: \",abs(echelon_A[1][3]))\n",
    "print(\"rC: \",abs(echelon_A[2][3]))\n",
    "print(\"rD: free variable\")"
   ]
  },
  {
   "cell_type": "markdown",
   "id": "entire-liberty",
   "metadata": {},
   "source": [
    "# Question 4:\n",
    "# (a) Does the equation Lr = r above always have a solution?\n",
    "## Yes Lr = r always have a solution as only 3 pivot columns thus 1 free variable therefore infinitly many solutions\n",
    "# (b) Will a solution have entries that are nonnegative?\n",
    "# Yes since have 1 free variable it could be any number thus the infinite solution therefore could have a entries that are negative.\n",
    "# (c) Is the solution unique? If not, we will have conflicting rankings.\n",
    "# Solution not unique as have free variable.It is possible to have conflicting ranking as we have infinite solutions"
   ]
  },
  {
   "cell_type": "markdown",
   "id": "documentary-clark",
   "metadata": {},
   "source": [
    "# Question 5\n"
   ]
  },
  {
   "cell_type": "code",
   "execution_count": 52,
   "id": "greenhouse-baptist",
   "metadata": {},
   "outputs": [
    {
     "name": "stdout",
     "output_type": "stream",
     "text": [
      "Identity matrix\n",
      "\n",
      " [[1. 0. 0. 0. 0.]\n",
      " [0. 1. 0. 0. 0.]\n",
      " [0. 0. 1. 0. 0.]\n",
      " [0. 0. 0. 1. 0.]\n",
      " [0. 0. 0. 0. 1.]]\n",
      "\n",
      "Matrix A:\n",
      " [[-12.   6.   3.  12.   4.]\n",
      " [  4. -12.   3.   0.   0.]\n",
      " [  4.   6. -12.   0.   4.]\n",
      " [  4.   0.   3. -12.   4.]\n",
      " [  0.   0.   3.   0. -12.]]\n",
      "\n",
      "Linking matrix\n",
      " [[0.         0.5        0.25       1.         0.33333333]\n",
      " [0.33333333 0.         0.25       0.         0.        ]\n",
      " [0.33333333 0.5        0.         0.         0.33333333]\n",
      " [0.33333333 0.         0.25       0.         0.33333333]\n",
      " [0.         0.         0.25       0.         0.        ]]\n",
      "\n",
      " L - I\n",
      "[[-1.          0.5         0.25        1.          0.33333333]\n",
      " [ 0.33333333 -1.          0.25        0.          0.        ]\n",
      " [ 0.33333333  0.5        -1.          0.          0.33333333]\n",
      " [ 0.33333333  0.          0.25       -1.          0.33333333]\n",
      " [ 0.          0.          0.25        0.         -1.        ]]\n",
      "\n",
      " Agumented martrix\n",
      " [[-12.   6.   3.  12.   4.   0.]\n",
      " [  4. -12.   3.   0.   0.   0.]\n",
      " [  4.   6. -12.   0.   4.   0.]\n",
      " [  4.   0.   3. -12.   4.   0.]\n",
      " [  0.   0.   3.   0. -12.   0.]]\n",
      "\n",
      "Reduce echolon form of AguA\n",
      " [[ 1.          0.          0.          0.         -6.33333333 -0.        ]\n",
      " [ 0.          1.          0.          0.         -3.11111111 -0.        ]\n",
      " [ 0.          0.          1.          0.         -4.         -0.        ]\n",
      " [ 0.          0.          0.          1.         -3.44444444 -0.        ]\n",
      " [ 0.          0.          0.          0.          0.          0.        ]]\n",
      "rA:  6.333333333333334\n",
      "rB:  3.1111111111111116\n",
      "rC:  4.0\n",
      "rD:  3.4444444444444446\n",
      "rE: free variable\n"
     ]
    }
   ],
   "source": [
    "#Question 5\n",
    "F = np.array([[0,1,1,1,1],\n",
    "            [1,0,1,0,0],\n",
    "            [1,1,0,0,1],\n",
    "            [1,0,1,0,1],\n",
    "             [0,0,1,0,0]])\n",
    "\n",
    "L = np.array([[0,1/2,1/4,1,1/3],\n",
    "            [1/3,0,1/4,0,0],\n",
    "            [1/3,1/2,0,0,1/3],\n",
    "            [1/3,0,1/4,0,1/3],\n",
    "             [0,0,1/4,0,0]])\n",
    "\n",
    "# 5x5 Identity transformation matrix\n",
    "I = np.eye(5) #float\n",
    "print(\"Identity matrix\\n\\n\",I)\n",
    "\n",
    "#L - I\n",
    "A = (L - I) * 12  #to get whole number thus easier to compute\n",
    "print(\"\\nMatrix A:\\n\",A)\n",
    "\n",
    "print(\"\\nLinking matrix\\n\",L)\n",
    "\n",
    "print(\"\\n L - I\")\n",
    "print(L-I)\n",
    "#Agumented matrix\n",
    "# [A |0]\n",
    "\n",
    "AguA = np.array([[-12,6,3,12,4,0],\n",
    "                [4,-12,3,0,0,0],\n",
    "                [4,6,-12,0,4,0],\n",
    "                [4,0,3,-12,4,0],\n",
    "                [0,0,3,0,-12,0]])\n",
    "\n",
    "AguA = AguA.astype(float)\n",
    "print(\"\\n Agumented martrix\\n\",AguA)\n",
    "\n",
    "reduce_A = rref(AguA)\n",
    "print(\"\\nReduce echolon form of AguA\\n\",reduce_A)\n",
    "\n",
    "\n",
    "print(\"rA: \",abs(reduce_A[0][4]))\n",
    "print(\"rB: \",abs(reduce_A[1][4]))\n",
    "print(\"rC: \",abs(reduce_A[2][4]))\n",
    "print(\"rD: \",abs(reduce_A[3][4]))\n",
    "print(\"rE: free variable\")"
   ]
  },
  {
   "cell_type": "code",
   "execution_count": null,
   "id": "equipped-angle",
   "metadata": {},
   "outputs": [],
   "source": []
  },
  {
   "cell_type": "code",
   "execution_count": null,
   "id": "arctic-surgeon",
   "metadata": {},
   "outputs": [],
   "source": []
  },
  {
   "cell_type": "code",
   "execution_count": null,
   "id": "acknowledged-blade",
   "metadata": {},
   "outputs": [],
   "source": []
  },
  {
   "cell_type": "code",
   "execution_count": null,
   "id": "editorial-graphic",
   "metadata": {},
   "outputs": [],
   "source": []
  },
  {
   "cell_type": "code",
   "execution_count": null,
   "id": "determined-suite",
   "metadata": {},
   "outputs": [],
   "source": []
  },
  {
   "cell_type": "code",
   "execution_count": null,
   "id": "standing-output",
   "metadata": {},
   "outputs": [],
   "source": []
  },
  {
   "cell_type": "code",
   "execution_count": null,
   "id": "existing-scholarship",
   "metadata": {},
   "outputs": [],
   "source": []
  },
  {
   "cell_type": "code",
   "execution_count": null,
   "id": "aboriginal-interim",
   "metadata": {},
   "outputs": [],
   "source": []
  },
  {
   "cell_type": "code",
   "execution_count": null,
   "id": "metric-small",
   "metadata": {},
   "outputs": [],
   "source": []
  },
  {
   "cell_type": "code",
   "execution_count": null,
   "id": "checked-explorer",
   "metadata": {},
   "outputs": [],
   "source": []
  },
  {
   "cell_type": "code",
   "execution_count": null,
   "id": "champion-hello",
   "metadata": {},
   "outputs": [],
   "source": []
  }
 ],
 "metadata": {
  "kernelspec": {
   "display_name": "Python 3",
   "language": "python",
   "name": "python3"
  },
  "language_info": {
   "codemirror_mode": {
    "name": "ipython",
    "version": 3
   },
   "file_extension": ".py",
   "mimetype": "text/x-python",
   "name": "python",
   "nbconvert_exporter": "python",
   "pygments_lexer": "ipython3",
   "version": "3.8.3"
  }
 },
 "nbformat": 4,
 "nbformat_minor": 5
}
