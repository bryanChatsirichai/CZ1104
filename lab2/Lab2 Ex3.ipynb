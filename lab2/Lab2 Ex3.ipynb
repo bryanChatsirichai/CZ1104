{
 "cells": [
  {
   "cell_type": "code",
   "execution_count": 48,
   "id": "english-focus",
   "metadata": {},
   "outputs": [],
   "source": [
    "import numpy as np\n",
    "import string\n",
    "from matplotlib import pyplot as plt"
   ]
  },
  {
   "cell_type": "markdown",
   "id": "minute-treasury",
   "metadata": {},
   "source": [
    "# Exercise 3: Epidemic Dynamics – SIR model\n",
    "## Question 6"
   ]
  },
  {
   "cell_type": "code",
   "execution_count": 49,
   "id": "secret-annual",
   "metadata": {},
   "outputs": [
    {
     "name": "stdout",
     "output_type": "stream",
     "text": [
      "Normalized vector Xt\n",
      " [[0.75]\n",
      " [0.1 ]\n",
      " [0.1 ]\n",
      " [0.05]]\n",
      "Matrix P\n",
      " [[0.95 0.04 0.   0.  ]\n",
      " [0.05 0.85 0.   0.  ]\n",
      " [0.   0.1  1.   0.  ]\n",
      " [0.   0.01 0.   1.  ]]\n",
      "\n",
      "State of disease in 1 day (vector): \n",
      "[[0.7165]\n",
      " [0.1225]\n",
      " [0.11  ]\n",
      " [0.051 ]]\n"
     ]
    }
   ],
   "source": [
    "#SIRD\n",
    "Xt = np.array([[0.75],[0.1],[0.1],[0.05]])\n",
    "print(\"Normalized vector Xt\\n\",Xt)\n",
    "\n",
    "p = np.array([[0.95,0.04,0,0],\n",
    "             [0.05,0.85,0,0],\n",
    "              [0,0.1,1,0],\n",
    "              [0,0.01,0,1]])\n",
    "print(\"Matrix P\\n\",p)\n",
    "\n",
    "x = np.dot(p,Xt)\n",
    "print(\"\\nState of disease in 1 day (vector): \")\n",
    "print(x)"
   ]
  },
  {
   "cell_type": "markdown",
   "id": "knowing-moses",
   "metadata": {},
   "source": [
    "## Question 7"
   ]
  },
  {
   "cell_type": "code",
   "execution_count": 50,
   "id": "productive-divorce",
   "metadata": {},
   "outputs": [
    {
     "name": "stdout",
     "output_type": "stream",
     "text": [
      "Vetor X1\n",
      " [[1]\n",
      " [0]\n",
      " [0]\n",
      " [0]]\n",
      "Matrix P\n",
      " [[0.95 0.04 0.   0.  ]\n",
      " [0.05 0.85 0.   0.  ]\n",
      " [0.   0.1  1.   0.  ]\n",
      " [0.   0.01 0.   1.  ]]\n"
     ]
    },
    {
     "data": {
      "image/png": "[encoded data removed]",
      "text/plain": [
       "<Figure size 432x288 with 1 Axes>"
      ]
     },
     "metadata": {
      "needs_background": "light"
     },
     "output_type": "display_data"
    }
   ],
   "source": [
    "x1 = np.array([[1],[0],[0],[0]])\n",
    "print(\"Vetor X1\\n\",x1)\n",
    "\n",
    "p = np.array([[0.95,0.04,0,0],\n",
    "             [0.05,0.85,0,0],\n",
    "              [0,0.1,1,0],\n",
    "              [0,0.01,0,1]])\n",
    "print(\"Matrix P\\n\",p)\n",
    "\n",
    "S = []\n",
    "I = []\n",
    "R = []\n",
    "D = []\n",
    "\n",
    "for i in range(200):\n",
    "    x1 = np.dot(p,x1)\n",
    "    S.append(x1[0])\n",
    "    I.append(x1[1])\n",
    "    R.append(x1[2])\n",
    "    D.append(x1[3])\n",
    "\n",
    "plt.plot(S)\n",
    "plt.plot(I)\n",
    "plt.plot(R)\n",
    "plt.plot(D)\n",
    "\n",
    "plt.show()"
   ]
  },
  {
   "cell_type": "code",
   "execution_count": null,
   "id": "civil-aluminum",
   "metadata": {},
   "outputs": [],
   "source": []
  }
 ],
 "metadata": {
  "kernelspec": {
   "display_name": "Python 3",
   "language": "python",
   "name": "python3"
  },
  "language_info": {
   "codemirror_mode": {
    "name": "ipython",
    "version": 3
   },
   "file_extension": ".py",
   "mimetype": "text/x-python",
   "name": "python",
   "nbconvert_exporter": "python",
   "pygments_lexer": "ipython3",
   "version": "3.8.3"
  }
 },
 "nbformat": 4,
 "nbformat_minor": 5
}
