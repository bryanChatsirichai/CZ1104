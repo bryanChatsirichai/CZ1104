{
 "cells": [
  {
   "cell_type": "code",
   "execution_count": 108,
   "id": "bored-vegetation",
   "metadata": {},
   "outputs": [],
   "source": [
    "import numpy as np"
   ]
  },
  {
   "cell_type": "markdown",
   "id": "northern-biodiversity",
   "metadata": {},
   "source": [
    "# Q1. Write a code to find ech form (over binary matrices), i.e. entries of matrices are always 0,1 even in reduction stage.\n",
    "##  Gaussian Elimination"
   ]
  },
  {
   "cell_type": "code",
   "execution_count": 109,
   "id": "outstanding-consortium",
   "metadata": {},
   "outputs": [
    {
     "name": "stdout",
     "output_type": "stream",
     "text": [
      "Enter the row size of the agumented matrix: 3\n",
      "Enter the column size of the agumented matrix: 4\n"
     ]
    }
   ],
   "source": [
    "row = input(\"Enter the row size of the agumented matrix: \")\n",
    "col = input(\"Enter the column size of the agumented matrix: \")\n",
    "row = int(row)\n",
    "col = int(col)"
   ]
  },
  {
   "cell_type": "code",
   "execution_count": 110,
   "id": "iraqi-barcelona",
   "metadata": {},
   "outputs": [
    {
     "name": "stdout",
     "output_type": "stream",
     "text": [
      "Enter a[0][0]:1\n",
      "Enter a[0][1]:1\n",
      "Enter a[0][2]:-1\n",
      "Enter a[0][3]:9\n",
      "Enter a[1][0]:0\n",
      "Enter a[1][1]:1\n",
      "Enter a[1][2]:3\n",
      "Enter a[1][3]:3\n",
      "Enter a[2][0]:-1\n",
      "Enter a[2][1]:0\n",
      "Enter a[2][2]:-2\n",
      "Enter a[2][3]:2\n"
     ]
    }
   ],
   "source": [
    "agu = np.zeros((row,col),float)\n",
    "for i in range(row):\n",
    "    for j in range(col):\n",
    "        agu[i][j] = input(\"Enter a[{0}][{1}]:\".format(i,j))\n",
    "        "
   ]
  },
  {
   "cell_type": "code",
   "execution_count": 111,
   "id": "ceramic-windows",
   "metadata": {},
   "outputs": [
    {
     "data": {
      "text/plain": [
       "array([[ 1.,  1., -1.,  9.],\n",
       "       [ 0.,  1.,  3.,  3.],\n",
       "       [-1.,  0., -2.,  2.]])"
      ]
     },
     "execution_count": 111,
     "metadata": {},
     "output_type": "execute_result"
    }
   ],
   "source": [
    "agu\n"
   ]
  },
  {
   "cell_type": "code",
   "execution_count": 112,
   "id": "inappropriate-welcome",
   "metadata": {},
   "outputs": [],
   "source": [
    "#able to handle agumented matrix A\n",
    "# Elimination\n",
    "\n",
    "def ref(agu):\n",
    "\n",
    "\n",
    "    n = len(agu) # same as how many rows\n",
    "    print(\"row size is\",n)\n",
    "\n",
    "    for k in range(n-1):\n",
    "        for i in range(k+1,n): \n",
    "            if agu[i,k] == 0:\n",
    "                continue\n",
    "            factor = agu[k,k] / agu[i,k]\n",
    "            for j in range(k,n+1): #row operation step to get pivot colmuns\n",
    "                agu[i,j] = agu[k,j] - agu[i,j] * factor # r one row is subtracted by a another row ERO\n",
    "            \n",
    "\n",
    "    #back substitution part\n",
    "    # since after gaussian elimination if consistent x[n-1] the last entry of the solution will have a solution\n",
    "    # back substitute upwards\n",
    "    x = np.zeros(n,float)\n",
    "    x[n-1] = agu[n-1,n] / agu[n-1,n-1] \n",
    "\n",
    "    print(x)\n",
    "    # n-2 is the row just before last one, -1 as we want to stop after doing index 0 due to range,-1 to go backward\n",
    "    for i in range(n-2,-1,-1):\n",
    "        sum_ax = 0\n",
    "        for j in range(i+1,n):\n",
    "            sum_ax = sum_ax + agu[i,j] * x[j]\n",
    "        x[i] = (agu[i,n] - sum_ax) / agu[i,i] \n",
    "\n",
    "    print(\"the solution of the ystem:\")\n",
    "    print(x)\n"
   ]
  },
  {
   "cell_type": "code",
   "execution_count": 113,
   "id": "sexual-ultimate",
   "metadata": {},
   "outputs": [
    {
     "name": "stdout",
     "output_type": "stream",
     "text": [
      "row size is 3\n",
      "[ 0.          0.         -1.33333333]\n",
      "the solution of the ystem:\n",
      "[ 0.66666667  7.         -1.33333333]\n"
     ]
    }
   ],
   "source": [
    "ref(agu)"
   ]
  },
  {
   "cell_type": "markdown",
   "id": "progressive-dover",
   "metadata": {},
   "source": [
    "# Q2 You can explore in ANY of the following ways for Q2.\n",
    "# Use ech form to solve system of equations (you cook up some equations) OR\n",
    "# Do ech form matrix for general numbers, not just binary"
   ]
  },
  {
   "cell_type": "markdown",
   "id": "interpreted-display",
   "metadata": {},
   "source": [
    "## partial pivoting exchange rows\n",
    "### partial pivoting is applied when the pivot is zero or very small in magnitude by interchaning the pivot row with a lower row"
   ]
  },
  {
   "cell_type": "code",
   "execution_count": 139,
   "id": "thrown-stuff",
   "metadata": {},
   "outputs": [
    {
     "name": "stdout",
     "output_type": "stream",
     "text": [
      "Enter the row size of the agumented matrix: 4\n",
      "Enter the column size of the agumented matrix: 5\n"
     ]
    }
   ],
   "source": [
    "row = input(\"Enter the row size of the agumented matrix: \")\n",
    "col = input(\"Enter the column size of the agumented matrix: \")\n",
    "row = int(row)\n",
    "col = int(col)"
   ]
  },
  {
   "cell_type": "code",
   "execution_count": 140,
   "id": "periodic-contributor",
   "metadata": {},
   "outputs": [
    {
     "name": "stdout",
     "output_type": "stream",
     "text": [
      "Enter a[0][0]:0\n",
      "Enter a[0][1]:1\n",
      "Enter a[0][2]:2\n",
      "Enter a[0][3]:3\n",
      "Enter a[0][4]:-0.2\n",
      "Enter a[1][0]:0\n",
      "Enter a[1][1]:1\n",
      "Enter a[1][2]:4\n",
      "Enter a[1][3]:12\n",
      "Enter a[1][4]:0.8\n",
      "Enter a[2][0]:1\n",
      "Enter a[2][1]:1\n",
      "Enter a[2][2]:1\n",
      "Enter a[2][3]:1\n",
      "Enter a[2][4]:1.5\n",
      "Enter a[3][0]:1\n",
      "Enter a[3][1]:2\n",
      "Enter a[3][2]:4\n",
      "Enter a[3][3]:8\n",
      "Enter a[3][4]:1.2\n"
     ]
    }
   ],
   "source": [
    "agu2 = np.zeros((row,col),float)\n",
    "for i in range(row):\n",
    "    for j in range(col):\n",
    "        agu2[i][j] = input(\"Enter a[{0}][{1}]:\".format(i,j))"
   ]
  },
  {
   "cell_type": "code",
   "execution_count": 141,
   "id": "forward-retrieval",
   "metadata": {},
   "outputs": [
    {
     "data": {
      "text/plain": [
       "array([[ 0. ,  1. ,  2. ,  3. , -0.2],\n",
       "       [ 0. ,  1. ,  4. , 12. ,  0.8],\n",
       "       [ 1. ,  1. ,  1. ,  1. ,  1.5],\n",
       "       [ 1. ,  2. ,  4. ,  8. ,  1.2]])"
      ]
     },
     "execution_count": 141,
     "metadata": {},
     "output_type": "execute_result"
    }
   ],
   "source": [
    "agu2"
   ]
  },
  {
   "cell_type": "code",
   "execution_count": 142,
   "id": "increased-company",
   "metadata": {},
   "outputs": [],
   "source": [
    "def ref_pp(agu):\n",
    "    # able to handle agumented matrix A\n",
    "    # Elimination\n",
    "\n",
    "    n = len(agu)  # same as how many rows\n",
    "\n",
    "    print(\"row size is\", n)\n",
    "\n",
    "    for k in range(n - 1):\n",
    "\n",
    "        #if np.fabs(agu[k, k]) == 0:  # pivot is zero so we check row below to see if can swap check zero only\n",
    "        #include the very small numbers that approach 0, \n",
    "        #safer as computer aproximate so if num is very small but not zero it wont make this estimate error\n",
    "        if np.fabs(agu[k, k]) < 1.0e-20: \n",
    "            for i in range(k + 1, n):\n",
    "                if np.fabs(agu[i, k]) > np.fabs(agu[k, k]):\n",
    "                    agu[[i, k], :] = agu[[k, i], :]  # exchange the row\n",
    "                    break  # once meet the first requirement and swap break and continue elimination of the columns to get the pivot\n",
    "\n",
    "        for i in range(k + 1, n):\n",
    "            if agu[i, k] == 0:\n",
    "                continue\n",
    "            factor = agu[k, k] / agu[i, k]\n",
    "            for j in range(k, n + 1):\n",
    "                agu[i, j] = agu[k, j] - agu[i, j] * factor\n",
    "            # b[i] = b[k] - b[i] * factor # agumented column or the b\n",
    "    print(agu)\n",
    "\n",
    "    # back substitution part\n",
    "    x = np.zeros(n,float)\n",
    "    x[n-1] = agu[n-1,n] / agu[n-1,n-1] \n",
    "\n",
    "    # n-2 is the row just before last one, -1 as we want to stop after doing index 0 due to range,-1 to go backward\n",
    "    for i in range(n - 2, -1, -1):\n",
    "        sum_ax = 0\n",
    "        for j in range(i + 1, n):\n",
    "            sum_ax = sum_ax + agu[i, j] * x[j]\n",
    "        x[i] = (agu[i, n] - sum_ax) / agu[i, i]\n",
    "\n",
    "    print(\"the solution of the system:\")\n",
    "    print(x)"
   ]
  },
  {
   "cell_type": "code",
   "execution_count": 143,
   "id": "distinct-heath",
   "metadata": {},
   "outputs": [
    {
     "name": "stdout",
     "output_type": "stream",
     "text": [
      "row size is 4\n",
      "[[ 1.   1.   1.   1.   1.5]\n",
      " [ 0.   1.   4.  12.   0.8]\n",
      " [ 0.   0.   2.   9.   1. ]\n",
      " [ 0.   0.   0.  -1.  -1.2]]\n",
      "the solution of the system:\n",
      "[-0.8  6.  -4.9  1.2]\n"
     ]
    }
   ],
   "source": [
    "ref_pp(agu2)"
   ]
  },
  {
   "cell_type": "code",
   "execution_count": null,
   "id": "smaller-disclosure",
   "metadata": {},
   "outputs": [],
   "source": []
  },
  {
   "cell_type": "code",
   "execution_count": null,
   "id": "crazy-generation",
   "metadata": {},
   "outputs": [],
   "source": []
  }
 ],
 "metadata": {
  "kernelspec": {
   "display_name": "Python 3",
   "language": "python",
   "name": "python3"
  },
  "language_info": {
   "codemirror_mode": {
    "name": "ipython",
    "version": 3
   },
   "file_extension": ".py",
   "mimetype": "text/x-python",
   "name": "python",
   "nbconvert_exporter": "python",
   "pygments_lexer": "ipython3",
   "version": "3.8.3"
  }
 },
 "nbformat": 4,
 "nbformat_minor": 5
}
