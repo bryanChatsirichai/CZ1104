{
 "cells": [
  {
   "cell_type": "code",
   "execution_count": 1,
   "id": "limiting-wednesday",
   "metadata": {},
   "outputs": [],
   "source": [
    "# Basic Libraries\n",
    "import numpy as np\n",
    "import pandas as pd\n",
    "import seaborn as sb\n",
    "import matplotlib.pyplot as plt # we only need pyplot\n",
    "sb.set() # set the default Seaborn style for graphics"
   ]
  },
  {
   "cell_type": "markdown",
   "id": "statistical-witch",
   "metadata": {},
   "source": [
    "# Question 5\n",
    "# Consider the following data regarding house prices:\n",
    "## House 𝑥i (area in 1000 sq ft) yi (price in 1000 dollars)\n",
    "### xi(area)  yi(price)\n",
    "### 1) 0.846 115.00\n",
    "### 2) 1.324 234.50\n",
    "### 3) 1.150 198.00\n",
    "### 4) 3.037 528.00\n",
    "### 5) 3.984 572.50"
   ]
  },
  {
   "cell_type": "code",
   "execution_count": 112,
   "id": "fiscal-gender",
   "metadata": {},
   "outputs": [
    {
     "name": "stdout",
     "output_type": "stream",
     "text": [
      "matrix of x1\n",
      " [[0.846]\n",
      " [1.324]\n",
      " [1.15 ]\n",
      " [3.037]\n",
      " [3.984]]\n",
      "matrix of y\n",
      " [[115. ]\n",
      " [234.5]\n",
      " [198. ]\n",
      " [528. ]\n",
      " [572.5]]\n"
     ]
    }
   ],
   "source": [
    "x1 = np.array([[0.846],[1.324],[1.150],[3.037],[3.984]])\n",
    "y = np.array([[115.00],[234.50],[198.00],[528.00],[572.50]])\n",
    "print(\"matrix of x1\\n\",x1)\n",
    "print(\"matrix of y\\n\",y)"
   ]
  },
  {
   "cell_type": "code",
   "execution_count": 97,
   "id": "democratic-comment",
   "metadata": {},
   "outputs": [
    {
     "name": "stdout",
     "output_type": "stream",
     "text": [
      "Summation of (x1)^2 28.886817\n"
     ]
    }
   ],
   "source": [
    "#Summation of (xi)^2\n",
    "for house in x1:\n",
    "    sum_x2 = np.sum(x1*x1)\n",
    "print(\"Summation of (x1)^2\",sum_x2)"
   ]
  },
  {
   "cell_type": "code",
   "execution_count": 98,
   "id": "skilled-friendly",
   "metadata": {},
   "outputs": [
    {
     "name": "stdout",
     "output_type": "stream",
     "text": [
      "Summation of (x1) 10.341\n"
     ]
    }
   ],
   "source": [
    "#Summation of (xi)\n",
    "for house in x1:\n",
    "    sum_x = np.sum(x1)\n",
    "print(\"Summation of (x1)\",sum_x)"
   ]
  },
  {
   "cell_type": "code",
   "execution_count": 99,
   "id": "stretch-captain",
   "metadata": {},
   "outputs": [
    {
     "name": "stdout",
     "output_type": "stream",
     "text": [
      "Summation of (yi) 1648.0\n"
     ]
    }
   ],
   "source": [
    "#Summation of (yi)\n",
    "for price in y:\n",
    "    sum_y = np.sum(y)\n",
    "print(\"Summation of (yi)\",sum_y)"
   ]
  },
  {
   "cell_type": "code",
   "execution_count": 100,
   "id": "connected-interference",
   "metadata": {},
   "outputs": [
    {
     "name": "stdout",
     "output_type": "stream",
     "text": [
      "Summation of (yi)x(xi) 4519.844\n"
     ]
    }
   ],
   "source": [
    "#Summation of (yi)x(xi)\n",
    "for price in y:\n",
    "    sum_xy = np.sum(x1*y)\n",
    "print(\"Summation of (yi)x(xi)\",sum_xy)"
   ]
  },
  {
   "cell_type": "code",
   "execution_count": 101,
   "id": "greenhouse-sperm",
   "metadata": {},
   "outputs": [
    {
     "name": "stdout",
     "output_type": "stream",
     "text": [
      "shape (2, 2)\n"
     ]
    },
    {
     "data": {
      "text/plain": [
       "array([[28.886817, 10.341   ],\n",
       "       [10.341   ,  5.      ]])"
      ]
     },
     "execution_count": 101,
     "metadata": {},
     "output_type": "execute_result"
    }
   ],
   "source": [
    "# Ax = b\n",
    "# x = inverse(A)*b\n",
    "A = np.array([[28.886817,10.341],[10.341,5]]) #Matrix A\n",
    "print(\"shape\",A.shape)\n",
    "A"
   ]
  },
  {
   "cell_type": "code",
   "execution_count": 102,
   "id": "historical-instrument",
   "metadata": {},
   "outputs": [
    {
     "name": "stdout",
     "output_type": "stream",
     "text": [
      "shape (2, 1)\n"
     ]
    },
    {
     "data": {
      "text/plain": [
       "array([[4519.844],\n",
       "       [1648.   ]])"
      ]
     },
     "execution_count": 102,
     "metadata": {},
     "output_type": "execute_result"
    }
   ],
   "source": [
    "#vector b\n",
    "b = np.array([[4519.844],[1648]])\n",
    "print(\"shape\",b.shape)\n",
    "b"
   ]
  },
  {
   "cell_type": "code",
   "execution_count": 103,
   "id": "nominated-placement",
   "metadata": {},
   "outputs": [],
   "source": [
    "#inverse of A\n",
    "inv_A = np.linalg.inv(A)\n"
   ]
  },
  {
   "cell_type": "code",
   "execution_count": 104,
   "id": "identical-intention",
   "metadata": {},
   "outputs": [
    {
     "data": {
      "text/plain": [
       "array([[148.20206538],\n",
       "       [ 23.08848838]])"
      ]
     },
     "execution_count": 104,
     "metadata": {},
     "output_type": "execute_result"
    }
   ],
   "source": [
    "#x = inverse_A * b\n",
    "x  = np.dot(inv_A,b)\n",
    "x # column vector[m,c]\n"
   ]
  },
  {
   "cell_type": "code",
   "execution_count": 105,
   "id": "checked-hughes",
   "metadata": {},
   "outputs": [
    {
     "name": "stdout",
     "output_type": "stream",
     "text": [
      "m = [148.20206538]\n",
      "c = [23.08848838]\n"
     ]
    }
   ],
   "source": [
    "m = x[0]\n",
    "c = x[1]\n",
    "print(\"m =\",m)\n",
    "print(\"c =\",c)"
   ]
  },
  {
   "cell_type": "code",
   "execution_count": 106,
   "id": "outer-radiation",
   "metadata": {},
   "outputs": [
    {
     "data": {
      "image/png": "[encoded data removed]",
      "text/plain": [
       "<Figure size 432x288 with 1 Axes>"
      ]
     },
     "metadata": {},
     "output_type": "display_data"
    }
   ],
   "source": [
    "xs = np.linspace(0,1,5)\n",
    "ys = c + m*xs\n",
    "z = plt.plot(xs,ys,'r',linewidth=4) # plots fitted line\n"
   ]
  },
  {
   "cell_type": "code",
   "execution_count": 84,
   "id": "plain-helen",
   "metadata": {},
   "outputs": [
    {
     "data": {
      "image/png": "[encoded data removed]",
      "text/plain": [
       "<Figure size 432x288 with 1 Axes>"
      ]
     },
     "metadata": {},
     "output_type": "display_data"
    }
   ],
   "source": [
    "plt.scatter(x1,y); # plots data(𝑥1, 𝑦)"
   ]
  },
  {
   "cell_type": "code",
   "execution_count": 95,
   "id": "impossible-maria",
   "metadata": {},
   "outputs": [
    {
     "data": {
      "image/png": "[encoded data removed]",
      "text/plain": [
       "<Figure size 432x288 with 1 Axes>"
      ]
     },
     "metadata": {},
     "output_type": "display_data"
    }
   ],
   "source": [
    "xs = np.linspace(0,1,5)\n",
    "ys = c + m*xs\n",
    "z = plt.plot(xs,ys,'r',linewidth=4) # plots fitted line\n",
    "plt.scatter(x1,y); # plots data(𝑥1, 𝑦)"
   ]
  },
  {
   "cell_type": "markdown",
   "id": "prescription-conditions",
   "metadata": {},
   "source": [
    "# Question 6"
   ]
  },
  {
   "cell_type": "code",
   "execution_count": 110,
   "id": "framed-motel",
   "metadata": {},
   "outputs": [
    {
     "name": "stdout",
     "output_type": "stream",
     "text": [
      "matrix of x1\n",
      " [[0.846]\n",
      " [1.324]\n",
      " [1.15 ]\n",
      " [3.037]\n",
      " [3.984]]\n",
      "matrix of x2\n",
      " [[1]\n",
      " [2]\n",
      " [3]\n",
      " [4]\n",
      " [5]]\n",
      "matrix of y\n",
      " [[115. ]\n",
      " [234.5]\n",
      " [198. ]\n",
      " [528. ]\n",
      " [572.5]]\n"
     ]
    }
   ],
   "source": [
    "x1 = np.array([[0.846],[1.324],[1.150],[3.037],[3.984]])\n",
    "x2 = np.array([[1],[2],[3],[4],[5]])\n",
    "y = np.array([[115.00],[234.50],[198.00],[528.00],[572.50]])\n",
    "print(\"matrix of x1\\n\",x1)\n",
    "print(\"matrix of x2\\n\",x2)\n",
    "print(\"matrix of y\\n\",y)"
   ]
  },
  {
   "cell_type": "code",
   "execution_count": 127,
   "id": "monetary-bleeding",
   "metadata": {},
   "outputs": [
    {
     "data": {
      "text/plain": [
       "array([[1.   , 0.846, 1.   ],\n",
       "       [1.   , 1.324, 2.   ],\n",
       "       [1.   , 1.15 , 3.   ],\n",
       "       [1.   , 3.037, 4.   ],\n",
       "       [1.   , 3.984, 5.   ]])"
      ]
     },
     "execution_count": 127,
     "metadata": {},
     "output_type": "execute_result"
    }
   ],
   "source": [
    "# X*a = y\n",
    "X = np.ones((5,3))\n",
    "for i,element in enumerate(x1):\n",
    "    X[i] = [1,x1[i],x2[i]]\n",
    "X"
   ]
  },
  {
   "cell_type": "code",
   "execution_count": 129,
   "id": "intellectual-reading",
   "metadata": {},
   "outputs": [
    {
     "data": {
      "text/plain": [
       "array([[1.   , 1.   , 1.   , 1.   , 1.   ],\n",
       "       [0.846, 1.324, 1.15 , 3.037, 3.984],\n",
       "       [1.   , 2.   , 3.   , 4.   , 5.   ]])"
      ]
     },
     "execution_count": 129,
     "metadata": {},
     "output_type": "execute_result"
    }
   ],
   "source": [
    "Xt = X.transpose() #transpose of matrix x\n",
    "Xt"
   ]
  },
  {
   "cell_type": "code",
   "execution_count": 131,
   "id": "federal-school",
   "metadata": {},
   "outputs": [
    {
     "data": {
      "text/plain": [
       "array([[ 5.      , 10.341   , 15.      ],\n",
       "       [10.341   , 28.886817, 39.012   ],\n",
       "       [15.      , 39.012   , 55.      ]])"
      ]
     },
     "execution_count": 131,
     "metadata": {},
     "output_type": "execute_result"
    }
   ],
   "source": [
    "#(𝑋𝑇𝑋)𝐚 = 𝑋𝑇𝐲. \n",
    "#Xt*X\n",
    "XtX = np.dot(Xt,X)\n",
    "XtX"
   ]
  },
  {
   "cell_type": "code",
   "execution_count": 133,
   "id": "bearing-valve",
   "metadata": {},
   "outputs": [
    {
     "data": {
      "text/plain": [
       "array([[1648.   ],\n",
       "       [4519.844],\n",
       "       [6152.5  ]])"
      ]
     },
     "execution_count": 133,
     "metadata": {},
     "output_type": "execute_result"
    }
   ],
   "source": [
    "#Xty\n",
    "Xty = np.dot(Xt,y)\n",
    "Xty"
   ]
  },
  {
   "cell_type": "code",
   "execution_count": 140,
   "id": "stuffed-gnome",
   "metadata": {},
   "outputs": [
    {
     "data": {
      "text/plain": [
       "array([[  9.97566234],\n",
       "       [130.67172705],\n",
       "       [ 16.45635726]])"
      ]
     },
     "execution_count": 140,
     "metadata": {},
     "output_type": "execute_result"
    }
   ],
   "source": [
    "#a = inverse(XtX)*Xty\n",
    "inv_XtX = np.linalg.inv(XtX) \n",
    "a = np.dot(inv_XtX,Xty)\n",
    "a"
   ]
  },
  {
   "cell_type": "code",
   "execution_count": 141,
   "id": "instrumental-degree",
   "metadata": {},
   "outputs": [
    {
     "data": {
      "text/plain": [
       "array([[  9.97566234],\n",
       "       [130.67172705],\n",
       "       [ 16.45635726]])"
      ]
     },
     "execution_count": 141,
     "metadata": {},
     "output_type": "execute_result"
    }
   ],
   "source": [
    "a =  np.linalg.solve(XtX, Xty)\n",
    "a"
   ]
  },
  {
   "cell_type": "code",
   "execution_count": 142,
   "id": "synthetic-federal",
   "metadata": {},
   "outputs": [],
   "source": [
    "from mpl_toolkits import mplot3d\n",
    "%matplotlib inline\n",
    "import numpy as np\n",
    "import matplotlib.pyplot as plt"
   ]
  },
  {
   "cell_type": "code",
   "execution_count": 175,
   "id": "oriental-cisco",
   "metadata": {},
   "outputs": [
    {
     "data": {
      "text/plain": [
       "<mpl_toolkits.mplot3d.art3d.Path3DCollection at 0x210391190a0>"
      ]
     },
     "execution_count": 175,
     "metadata": {},
     "output_type": "execute_result"
    },
    {
     "data": {
      "image/png": "[encoded data removed]",
      "text/plain": [
       "<Figure size 432x288 with 1 Axes>"
      ]
     },
     "metadata": {
      "needs_background": "light"
     },
     "output_type": "display_data"
    }
   ],
   "source": [
    "fig = plt.figure()\n",
    "ax = fig.add_subplot(111, projection='3d')\n",
    "# Data for a three-dimensional line\n",
    "ax.set_xlabel('X1')\n",
    "ax.set_ylabel('X2')\n",
    "ax.set_zlabel('Y')\n",
    "ax.scatter(x1,x2,y,c = \"red\")"
   ]
  },
  {
   "cell_type": "code",
   "execution_count": null,
   "id": "composite-tucson",
   "metadata": {},
   "outputs": [],
   "source": []
  }
 ],
 "metadata": {
  "kernelspec": {
   "display_name": "Python 3",
   "language": "python",
   "name": "python3"
  },
  "language_info": {
   "codemirror_mode": {
    "name": "ipython",
    "version": 3
   },
   "file_extension": ".py",
   "mimetype": "text/x-python",
   "name": "python",
   "nbconvert_exporter": "python",
   "pygments_lexer": "ipython3",
   "version": "3.8.3"
  }
 },
 "nbformat": 4,
 "nbformat_minor": 5
}
