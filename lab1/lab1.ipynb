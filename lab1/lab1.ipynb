{
 "cells": [
  {
   "cell_type": "code",
   "execution_count": 2,
   "metadata": {},
   "outputs": [],
   "source": [
    "# Python program for random \n",
    "# binary string generation \n",
    "import numpy as np\n",
    "import random \n",
    "  \n"
   ]
  },
  {
   "cell_type": "markdown",
   "metadata": {},
   "source": [
    "# Function to create random binary string of length p\n",
    "def rand_key(p): \n",
    "    \n",
    "    # Variable to store in an array \n",
    "    key = []\n",
    "  \n",
    "    # Loop to find the string \n",
    "    # of desired length \n",
    "    for i in range(p): \n",
    "          \n",
    "        # randint function to generate \n",
    "        # 0, 1 randomly and add  \n",
    "        # the result into arry\n",
    "        key.append(random.randint(0, 1)) \n",
    "    return(key) \n"
   ]
  },
  {
   "cell_type": "markdown",
   "metadata": {},
   "source": [
    "# Excercise 1\n"
   ]
  },
  {
   "cell_type": "markdown",
   "metadata": {},
   "source": [
    "# Question 1\n"
   ]
  },
  {
   "cell_type": "code",
   "execution_count": null,
   "metadata": {},
   "outputs": [],
   "source": [
    "\n"
   ]
  },
  {
   "cell_type": "code",
   "execution_count": 3,
   "metadata": {},
   "outputs": [],
   "source": [
    "\n",
    "#test case\n",
    "x = np.array([1,0,1,1,1]) #password\n",
    "c1 = np.array([0,1,0,1,1]) #challenge vector c1\n",
    "c2 = np.array([1,1,1,1,0]) #challenge vector c1\n",
    "\n",
    "b1 = np.dot(x,c1) % 2 # b = c dot product x\n",
    "b2 = np.dot(x,c2) % 2 # b = c dot product x"
   ]
  },
  {
   "cell_type": "code",
   "execution_count": 4,
   "metadata": {},
   "outputs": [
    {
     "name": "stdout",
     "output_type": "stream",
     "text": [
      "Answer for challenge vector c1 is 0\n",
      "Answer for challenge vector c2 is 1\n"
     ]
    }
   ],
   "source": [
    "#challenge 1\n",
    "\n",
    "print(\"Answer for challenge vector c1 is {}\".format(b1))\n",
    "print(\"Answer for challenge vector c2 is {}\".format(b2))"
   ]
  },
  {
   "cell_type": "markdown",
   "metadata": {},
   "source": [
    "# Question 2\n",
    "# (01011 + 11110) ⋅ x = 01011 ⋅ x + 11110 ⋅ x\n",
    "# find the challnge bit that solve this "
   ]
  },
  {
   "cell_type": "code",
   "execution_count": 5,
   "metadata": {},
   "outputs": [
    {
     "name": "stdout",
     "output_type": "stream",
     "text": [
      "Respond to the new challnge vectors is 1\n"
     ]
    }
   ],
   "source": [
    "respond = (b1 + b2) % 2\n",
    "respond #respoond to #(01011 + 11110) ⋅ x = 01011 ⋅ x + 11110 ⋅ x\n",
    "print(\"Respond to the new challnge vectors is {}\".format(respond))"
   ]
  },
  {
   "cell_type": "markdown",
   "metadata": {},
   "source": [
    "# Question 3:\n",
    "Extending the above idea, Eve can compute the right response to the sum of any number of\n",
    "previous challenges for which she has the right response. Mathematically,\n",
    "if \n",
    "c1 ⋅ x = 𝛽1, c2 ⋅ x = 𝛽2, ⋯ , c𝑘 ⋅ x = 𝛽1, 𝑡ℎ𝑒𝑛 (c1 + c2 + ⋯ + c𝑘) ⋅ x = (𝛽1+𝛽2+⋯+𝛽𝑘)\n",
    "Assume Eve knows the following challenges and responses:\n",
    "# Challenge Response\n",
    "# 110011       0\n",
    "# 101010       0\n",
    "# 111011       1\n",
    "# 001100       1"
   ]
  },
  {
   "cell_type": "code",
   "execution_count": 15,
   "metadata": {},
   "outputs": [],
   "source": [
    "ch = np.array([[1,1,0,0,1,1],[1,0,1,0,1,0],[1,1,1,0,1,1],[0,0,1,1,0,0]]) #challenges Eve knows\n",
    "re = np.array([0,0,1,1]) #Eve respond to the challenge respectivly \n",
    "c_a = np.array([0,1,1,0,0,1])\n",
    "c_b = np.array([1,1,0,1,1,1])\n"
   ]
  },
  {
   "cell_type": "code",
   "execution_count": 10,
   "metadata": {},
   "outputs": [],
   "source": []
  },
  {
   "cell_type": "code",
   "execution_count": 16,
   "metadata": {},
   "outputs": [],
   "source": [
    "'''Function takes in ch (array of challenge) and add them together mod the bits\n",
    "#and comapir if equal to challenge Ca or Cb \n",
    "#using c1 ⋅ x = 𝛽1, c2 ⋅ x = 𝛽2, ⋯ , c𝑘 ⋅ x = 𝛽1, 𝑡ℎ𝑒𝑛 (c1 + c2 + ⋯ + c𝑘) ⋅ x = (𝛽1+𝛽2+⋯+𝛽𝑘)\n",
    "# response arguments takes in the respond corresponding to the challenge in ch\n",
    "logic\n",
    "\n",
    "numpy.all(a, axis=None, out=None, keepdims=<no value>)[source]\n",
    "Test whether all array elements along a given axis evaluate to True.\n",
    "\n",
    "'''\n",
    "def generate_re(c):\n",
    "    for i,v1 in enumerate(ch):\n",
    "        for j,v2 in enumerate(ch):\n",
    "            vsum = np.mod(v1+v2,2)\n",
    "            #print(vsum)\n",
    "            if(vsum == c).all():\n",
    "                return (re[i] + re[j]) % 2\n",
    "\n"
   ]
  },
  {
   "cell_type": "code",
   "execution_count": 18,
   "metadata": {},
   "outputs": [],
   "source": [
    "re_a  = generate_re(c_1) #respond for c_a \n",
    "re_b = generate_re(c_2) #respond for c_b"
   ]
  },
  {
   "cell_type": "code",
   "execution_count": 21,
   "metadata": {},
   "outputs": [
    {
     "name": "stdout",
     "output_type": "stream",
     "text": [
      "Respond for c_a = 011001 is 0\n",
      "Respond for c_a = 110111 is 0\n"
     ]
    }
   ],
   "source": [
    "print(\"Respond for c_a = 011001 is\",re_a)\n",
    "print(\"Respond for c_a = 110111 is\",re_b)"
   ]
  },
  {
   "cell_type": "code",
   "execution_count": null,
   "metadata": {},
   "outputs": [],
   "source": []
  },
  {
   "cell_type": "code",
   "execution_count": null,
   "metadata": {},
   "outputs": [],
   "source": []
  },
  {
   "cell_type": "markdown",
   "metadata": {},
   "source": [
    "# Question 4:\n"
   ]
  },
  {
   "cell_type": "code",
   "execution_count": 22,
   "metadata": {},
   "outputs": [
    {
     "name": "stdout",
     "output_type": "stream",
     "text": [
      "[[1 1 0 0 1 1]\n",
      " [1 0 1 0 1 0]\n",
      " [1 1 1 0 1 1]\n",
      " [0 0 1 1 0 0]\n",
      " [0 1 1 0 1 1]\n",
      " [1 1 0 1 0 0]]\n",
      "(6, 6)\n"
     ]
    }
   ],
   "source": [
    "challenges = np.array([[1,1,0,0,1,1],[1,0,1,0,1,0],[1,1,1,0,1,1],[0,0,1,1,0,0],[0,1,1,0,1,1],[1,1,0,1,0,0]])\n",
    " #store the challenges in to a  6 x 6 matrix\n",
    "print(challenges)\n",
    "print(challenges.shape)"
   ]
  },
  {
   "cell_type": "code",
   "execution_count": 23,
   "metadata": {},
   "outputs": [
    {
     "name": "stdout",
     "output_type": "stream",
     "text": [
      "[0 0 1 1 0 1]\n",
      "(6,)\n"
     ]
    }
   ],
   "source": [
    "responses = np.array([0,0,1,1,0,1])\n",
    "print(responses) #store the individual responses in to a vector correspondind to the challenges element\n",
    "print(responses.shape)\n",
    "b = sum(responses) % 2 #reponses sume mod 2"
   ]
  },
  {
   "cell_type": "code",
   "execution_count": 24,
   "metadata": {},
   "outputs": [
    {
     "name": "stdout",
     "output_type": "stream",
     "text": [
      "The password is  [1. 0. 1. 0. 0. 1.]\n"
     ]
    }
   ],
   "source": [
    "from scipy import linalg\n",
    "x = linalg.solve(challenges,responses)\n",
    "for i,num in enumerate(x):\n",
    "        x[i] = x[i] % 2 #mod each element by 2\n",
    "print(\"The password is \",x)"
   ]
  },
  {
   "cell_type": "code",
   "execution_count": null,
   "metadata": {},
   "outputs": [],
   "source": []
  },
  {
   "cell_type": "code",
   "execution_count": null,
   "metadata": {},
   "outputs": [],
   "source": []
  }
 ],
 "metadata": {
  "kernelspec": {
   "display_name": "Python 3",
   "language": "python",
   "name": "python3"
  },
  "language_info": {
   "codemirror_mode": {
    "name": "ipython",
    "version": 3
   },
   "file_extension": ".py",
   "mimetype": "text/x-python",
   "name": "python",
   "nbconvert_exporter": "python",
   "pygments_lexer": "ipython3",
   "version": "3.8.3"
  }
 },
 "nbformat": 4,
 "nbformat_minor": 4
}
