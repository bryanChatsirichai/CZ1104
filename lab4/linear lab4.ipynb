{
 "cells": [
  {
   "cell_type": "code",
   "execution_count": 395,
   "metadata": {},
   "outputs": [],
   "source": [
    "import numpy as np\n",
    "from math import sqrt"
   ]
  },
  {
   "cell_type": "code",
   "execution_count": 396,
   "metadata": {},
   "outputs": [
    {
     "data": {
      "text/plain": [
       "array([[-6, -3,  6,  1],\n",
       "       [-1,  2,  1, -6],\n",
       "       [ 3,  6,  3, -2],\n",
       "       [ 6, -3,  6, -1],\n",
       "       [ 2, -1,  2,  3],\n",
       "       [-3,  6,  3,  2],\n",
       "       [-2, -1,  2, -3],\n",
       "       [ 1,  2,  1,  6]])"
      ]
     },
     "execution_count": 396,
     "metadata": {},
     "output_type": "execute_result"
    }
   ],
   "source": [
    "A = np.array([\n",
    "    [-6,-3,6,1],\n",
    "    [-1,2,1,-6],\n",
    "    [3,6,3,-2],\n",
    "    [6,-3,6,-1],\n",
    "    [2,-1,2,3],\n",
    "    [-3,6,3,2],\n",
    "    [-2,-1,2,-3],\n",
    "    [1,2,1,6]\n",
    "             ])\n",
    "A"
   ]
  },
  {
   "cell_type": "code",
   "execution_count": 397,
   "metadata": {},
   "outputs": [
    {
     "data": {
      "text/plain": [
       "4"
      ]
     },
     "execution_count": 397,
     "metadata": {},
     "output_type": "execute_result"
    }
   ],
   "source": [
    "len(A[:,0])\n",
    "len(A[0])"
   ]
  },
  {
   "cell_type": "markdown",
   "metadata": {},
   "source": [
    "The number of rows of a list of lists would be: len(A) and the number of columns len(A[0]) given that all rows have the same number of columns, i.e. all lists in each index are of the same size."
   ]
  },
  {
   "cell_type": "markdown",
   "metadata": {},
   "source": [
    "# Q1a"
   ]
  },
  {
   "cell_type": "code",
   "execution_count": 398,
   "metadata": {},
   "outputs": [],
   "source": [
    "def orthoganal(A):\n",
    "    fail = []\n",
    "    m = len(A[:,0])\n",
    "    n = len(A[0])\n",
    "    for i in range(0,n):\n",
    "       #print(A[:,i])\n",
    "        trans = np.zeros([1,m])\n",
    "        for j in range(0,m): #tanspose the current matrix before compair to the rest\n",
    "            trans[0][j] = A[j][i]\n",
    "        #print(trans)\n",
    "        for x in range (i + 1,n):\n",
    "            total = 0\n",
    "            #print(A[:,x])\n",
    "            print(\"Coulum A{} dot Column A{}\".format(i,x))\n",
    "            for y in range(0,m):\n",
    "                total = total + (A[y][x] * trans[0][y])\n",
    "            print(\"The dot product is\",total)\n",
    "            if(total == 0):\n",
    "                print(\"Coulum A{} dot Column A{} is orthogonal\".format(i,x))\n",
    "            else:\n",
    "                print(\"Coulum A{} dot Column A{} is not orthogonal\".format(i,x))\n",
    "            print(\"\\n\")"
   ]
  },
  {
   "cell_type": "code",
   "execution_count": 417,
   "metadata": {},
   "outputs": [],
   "source": [
    "def orthoganal(A):\n",
    "    fail = []\n",
    "    m = len(A[:,0])\n",
    "    n = len(A[0])\n",
    "    for i in range(0,n):\n",
    "        for x in range (i + 1,n):\n",
    "            total = 0\n",
    "            \n",
    "            #print(A[:,x])\n",
    "            print(\"Coulum A{} dot Column A{}\".format(i,x))\n",
    "            print(\"The dot product may not be exactly 0 but very small or close to zero due to floating point conversion\")\n",
    "            \n",
    "            for row in range(0,m):\n",
    "                total = total + (A[:,i][row] * A[:,x][row])\n",
    "                \n",
    "            if(total < 1.0e-14 ):\n",
    "                print(\"The dot product is\",0)\n",
    "            else:\n",
    "                print(\"The dot product is\",total)\n",
    "            \n",
    "            if(total < 1.0e-12):  #safer as computer aproximate so if num is very small but not zero it wont make this estimate error\n",
    "                print(\"Coulum A{} dot Column A{} is orthogonal\".format(i,x))\n",
    "            else:\n",
    "                print(\"Coulum A{} dot Column A{} is not orthogonal\".format(i,x))\n",
    "            print(\"\\n\")"
   ]
  },
  {
   "cell_type": "markdown",
   "metadata": {},
   "source": [
    "# Q1b"
   ]
  },
  {
   "cell_type": "code",
   "execution_count": 418,
   "metadata": {},
   "outputs": [
    {
     "name": "stdout",
     "output_type": "stream",
     "text": [
      "Coulum A0 dot Column A1\n",
      "The dot product may not be exactly 0 but very small or close to zero due to floating point conversion\n",
      "The dot product is 0\n",
      "Coulum A0 dot Column A1 is orthogonal\n",
      "\n",
      "\n",
      "Coulum A0 dot Column A2\n",
      "The dot product may not be exactly 0 but very small or close to zero due to floating point conversion\n",
      "The dot product is 0\n",
      "Coulum A0 dot Column A2 is orthogonal\n",
      "\n",
      "\n",
      "Coulum A0 dot Column A3\n",
      "The dot product may not be exactly 0 but very small or close to zero due to floating point conversion\n",
      "The dot product is 0\n",
      "Coulum A0 dot Column A3 is orthogonal\n",
      "\n",
      "\n",
      "Coulum A1 dot Column A2\n",
      "The dot product may not be exactly 0 but very small or close to zero due to floating point conversion\n",
      "The dot product is 0\n",
      "Coulum A1 dot Column A2 is orthogonal\n",
      "\n",
      "\n",
      "Coulum A1 dot Column A3\n",
      "The dot product may not be exactly 0 but very small or close to zero due to floating point conversion\n",
      "The dot product is 0\n",
      "Coulum A1 dot Column A3 is orthogonal\n",
      "\n",
      "\n",
      "Coulum A2 dot Column A3\n",
      "The dot product may not be exactly 0 but very small or close to zero due to floating point conversion\n",
      "The dot product is 0\n",
      "Coulum A2 dot Column A3 is orthogonal\n",
      "\n",
      "\n"
     ]
    }
   ],
   "source": [
    "orthoganal(A)"
   ]
  },
  {
   "cell_type": "markdown",
   "metadata": {},
   "source": [
    "# Q1c\n",
    "### Definition. We say that 2 vectors are orthogonal if they are perpendicular to each other. i.e. the dot product of the two vectors is zero.\n",
    "### Definition. We say that a set of vectors {v1, v2, ..., vn} are mutually orthogonal if every pair of vectors is orthogonal. i.e. vi dot vj = 0, for all i != j"
   ]
  },
  {
   "cell_type": "markdown",
   "metadata": {},
   "source": [
    "# Q2. Write a module “Orthonormalisation” that defines a a procedure orthonormalise(L) with the following specs:"
   ]
  },
  {
   "cell_type": "code",
   "execution_count": 419,
   "metadata": {},
   "outputs": [
    {
     "name": "stdout",
     "output_type": "stream",
     "text": [
      "Coulum A0 dot Column A1\n",
      "The dot product may not be exactly 0 but very small or close to zero due to floating point conversion\n",
      "The dot product is 94\n",
      "Coulum A0 dot Column A1 is not orthogonal\n",
      "\n",
      "\n",
      "Coulum A0 dot Column A2\n",
      "The dot product may not be exactly 0 but very small or close to zero due to floating point conversion\n",
      "The dot product is 0\n",
      "Coulum A0 dot Column A2 is orthogonal\n",
      "\n",
      "\n",
      "Coulum A0 dot Column A3\n",
      "The dot product may not be exactly 0 but very small or close to zero due to floating point conversion\n",
      "The dot product is 18\n",
      "Coulum A0 dot Column A3 is not orthogonal\n",
      "\n",
      "\n",
      "Coulum A1 dot Column A2\n",
      "The dot product may not be exactly 0 but very small or close to zero due to floating point conversion\n",
      "The dot product is 0\n",
      "Coulum A1 dot Column A2 is orthogonal\n",
      "\n",
      "\n",
      "Coulum A1 dot Column A3\n",
      "The dot product may not be exactly 0 but very small or close to zero due to floating point conversion\n",
      "The dot product is 0\n",
      "Coulum A1 dot Column A3 is orthogonal\n",
      "\n",
      "\n",
      "Coulum A2 dot Column A3\n",
      "The dot product may not be exactly 0 but very small or close to zero due to floating point conversion\n",
      "The dot product is 22\n",
      "Coulum A2 dot Column A3 is not orthogonal\n",
      "\n",
      "\n"
     ]
    }
   ],
   "source": [
    "A2 = np.array([\n",
    "    [4,3,1,2],\n",
    "    [8,9,-5,-5],\n",
    "    [10,1,-1,5]\n",
    "])\n",
    "orthoganal(A2)"
   ]
  },
  {
   "cell_type": "code",
   "execution_count": 420,
   "metadata": {},
   "outputs": [
    {
     "name": "stdout",
     "output_type": "stream",
     "text": [
      "Coulum A0 dot Column A1\n",
      "The dot product may not be exactly 0 but very small or close to zero due to floating point conversion\n",
      "The dot product is 44\n",
      "Coulum A0 dot Column A1 is not orthogonal\n",
      "\n",
      "\n",
      "Coulum A0 dot Column A2\n",
      "The dot product may not be exactly 0 but very small or close to zero due to floating point conversion\n",
      "The dot product is 52\n",
      "Coulum A0 dot Column A2 is not orthogonal\n",
      "\n",
      "\n",
      "Coulum A1 dot Column A2\n",
      "The dot product may not be exactly 0 but very small or close to zero due to floating point conversion\n",
      "The dot product is 69\n",
      "Coulum A1 dot Column A2 is not orthogonal\n",
      "\n",
      "\n"
     ]
    }
   ],
   "source": [
    "A2 = np.array([\n",
    "    [4,8,10],\n",
    "    [3,9,1,],\n",
    "    [1,-5,-1],\n",
    "    [2,-5,5]\n",
    "])\n",
    "orthoganal(A2)"
   ]
  },
  {
   "cell_type": "code",
   "execution_count": 421,
   "metadata": {},
   "outputs": [],
   "source": [
    "def gs(A): # gram schmidth process \n",
    "    # A IS  M X N MATRIX AND HAVE TI BE LINEARLY INDEPENDENT COLUMNS\n",
    "    m = len(A[:,0])\n",
    "    n = len(A[0])\n",
    "    #print(m)\n",
    "    ortho = np.zeros([m,n]) # orthogonal matrix\n",
    "    for i in range(0,n):\n",
    "        if(i == 0):\n",
    "            ortho[:,i] = A[:,i] # set x1 to v1\n",
    "            continue\n",
    "        x = A[:,i]\n",
    "        for j in range(0,i):\n",
    "            total = 0\n",
    "            length = 0\n",
    "            \n",
    "            for row in range(m): # x.v\n",
    "                total = total + (x[row] * ortho[:,j][row])\n",
    "                \n",
    "            for row in range(m): # v.v\n",
    "                length = length + (ortho[:,j][row] * ortho[:,j][row])\n",
    "                \n",
    "            scaler = total / (length)\n",
    "\n",
    "            x = x - (scaler * ortho[:,j])\n",
    "        ortho[:,i] = x\n",
    "    print(\"Before normalising\")\n",
    "    print(ortho)\n",
    "    # NORMALIZATION PROCESS \n",
    "    for col in range(n):\n",
    "        total = 0\n",
    "        for row in range(m):\n",
    "            total = total + (ortho[:,col][row] * ortho[:,col][row] ) # ||v||^2\n",
    "        norm = 1/ sqrt(total) #||v||\n",
    "        \n",
    "        ortho[:,col] = norm * ortho[:,col]\n",
    "     \n",
    "    print(\"After performing Gram schmidt on the matrix and normalising\")\n",
    "    print(\"Produce a orthogonal matrix, with orthonormal columns (unit length 1)\")\n",
    "    print(ortho)\n",
    "    orthoganal(ortho)\n"
   ]
  },
  {
   "cell_type": "code",
   "execution_count": 422,
   "metadata": {},
   "outputs": [
    {
     "name": "stdout",
     "output_type": "stream",
     "text": [
      "Before normalising\n",
      "[[ 4.          2.13333333  3.18548799]\n",
      " [ 3.          4.6        -3.94379152]\n",
      " [ 1.         -6.46666667 -3.09351048]\n",
      " [ 2.         -7.93333333  1.09146653]]\n",
      "After performing Gram schmidt on the matrix and normalising\n",
      "Produce a orthogonal matrix, with orthonormal columns (unit length 1)\n",
      "[[ 0.73029674  0.18677078  0.5275409 ]\n",
      " [ 0.54772256  0.4027245  -0.6531217 ]\n",
      " [ 0.18257419 -0.56614893 -0.51230873]\n",
      " [ 0.36514837 -0.69455384  0.18075511]]\n",
      "Coulum A0 dot Column A1\n",
      "The dot product may not be exactly 0 but very small or close to zero due to floating point conversion\n",
      "The dot product is 0\n",
      "Coulum A0 dot Column A1 is orthogonal\n",
      "\n",
      "\n",
      "Coulum A0 dot Column A2\n",
      "The dot product may not be exactly 0 but very small or close to zero due to floating point conversion\n",
      "The dot product is 0\n",
      "Coulum A0 dot Column A2 is orthogonal\n",
      "\n",
      "\n",
      "Coulum A1 dot Column A2\n",
      "The dot product may not be exactly 0 but very small or close to zero due to floating point conversion\n",
      "The dot product is 0\n",
      "Coulum A1 dot Column A2 is orthogonal\n",
      "\n",
      "\n"
     ]
    }
   ],
   "source": [
    "gs(A2)"
   ]
  },
  {
   "cell_type": "code",
   "execution_count": 423,
   "metadata": {},
   "outputs": [],
   "source": [
    "A3 = np.array([\n",
    "    [1,2,4],\n",
    "    [0,0,5],\n",
    "    [0,3,6],\n",
    "])\n",
    " "
   ]
  },
  {
   "cell_type": "code",
   "execution_count": 424,
   "metadata": {},
   "outputs": [
    {
     "data": {
      "text/plain": [
       "3"
      ]
     },
     "execution_count": 424,
     "metadata": {},
     "output_type": "execute_result"
    }
   ],
   "source": [
    "A4 = np.array([\n",
    "    [2,3],\n",
    "    [2,4],\n",
    "    [1,1],\n",
    "])\n",
    "len(A4[:,0])"
   ]
  },
  {
   "cell_type": "code",
   "execution_count": 425,
   "metadata": {},
   "outputs": [
    {
     "name": "stdout",
     "output_type": "stream",
     "text": [
      "Before normalising\n",
      "[[ 12.  -69.  -11.6]\n",
      " [  6.  158.    1.2]\n",
      " [ -4.   30.  -33. ]]\n",
      "After performing Gram schmidt on the matrix and normalising\n",
      "Produce a orthogonal matrix, with orthonormal columns (unit length 1)\n",
      "[[ 0.85714286 -0.39428571 -0.33142857]\n",
      " [ 0.42857143  0.90285714  0.03428571]\n",
      " [-0.28571429  0.17142857 -0.94285714]]\n",
      "Coulum A0 dot Column A1\n",
      "The dot product may not be exactly 0 but very small or close to zero due to floating point conversion\n",
      "The dot product is 0\n",
      "Coulum A0 dot Column A1 is orthogonal\n",
      "\n",
      "\n",
      "Coulum A0 dot Column A2\n",
      "The dot product may not be exactly 0 but very small or close to zero due to floating point conversion\n",
      "The dot product is 0\n",
      "Coulum A0 dot Column A2 is orthogonal\n",
      "\n",
      "\n",
      "Coulum A1 dot Column A2\n",
      "The dot product may not be exactly 0 but very small or close to zero due to floating point conversion\n",
      "The dot product is 0\n",
      "Coulum A1 dot Column A2 is orthogonal\n",
      "\n",
      "\n"
     ]
    }
   ],
   "source": [
    "A5 = np.array([\n",
    "    [12,-51,4],\n",
    "    [6,167,-68],\n",
    "    [-4,24,-41],\n",
    "\n",
    "])\n",
    "gs(A5)\n",
    "    "
   ]
  },
  {
   "cell_type": "code",
   "execution_count": 426,
   "metadata": {},
   "outputs": [
    {
     "name": "stdout",
     "output_type": "stream",
     "text": [
      "Before normalising\n",
      "[[1. 0. 0.]\n",
      " [0. 0. 5.]\n",
      " [0. 3. 0.]]\n",
      "After performing Gram schmidt on the matrix and normalising\n",
      "Produce a orthogonal matrix, with orthonormal columns (unit length 1)\n",
      "[[1. 0. 0.]\n",
      " [0. 0. 1.]\n",
      " [0. 1. 0.]]\n",
      "Coulum A0 dot Column A1\n",
      "The dot product may not be exactly 0 but very small or close to zero due to floating point conversion\n",
      "The dot product is 0\n",
      "Coulum A0 dot Column A1 is orthogonal\n",
      "\n",
      "\n",
      "Coulum A0 dot Column A2\n",
      "The dot product may not be exactly 0 but very small or close to zero due to floating point conversion\n",
      "The dot product is 0\n",
      "Coulum A0 dot Column A2 is orthogonal\n",
      "\n",
      "\n",
      "Coulum A1 dot Column A2\n",
      "The dot product may not be exactly 0 but very small or close to zero due to floating point conversion\n",
      "The dot product is 0\n",
      "Coulum A1 dot Column A2 is orthogonal\n",
      "\n",
      "\n"
     ]
    }
   ],
   "source": [
    "gs(A3)"
   ]
  },
  {
   "cell_type": "code",
   "execution_count": 427,
   "metadata": {},
   "outputs": [
    {
     "name": "stdout",
     "output_type": "stream",
     "text": [
      "Before normalising\n",
      "[[ 2.         -0.33333333]\n",
      " [ 2.          0.66666667]\n",
      " [ 1.         -0.66666667]]\n",
      "After performing Gram schmidt on the matrix and normalising\n",
      "Produce a orthogonal matrix, with orthonormal columns (unit length 1)\n",
      "[[ 0.66666667 -0.33333333]\n",
      " [ 0.66666667  0.66666667]\n",
      " [ 0.33333333 -0.66666667]]\n",
      "Coulum A0 dot Column A1\n",
      "The dot product may not be exactly 0 but very small or close to zero due to floating point conversion\n",
      "The dot product is 0\n",
      "Coulum A0 dot Column A1 is orthogonal\n",
      "\n",
      "\n"
     ]
    }
   ],
   "source": [
    "gs(A4)"
   ]
  },
  {
   "cell_type": "markdown",
   "metadata": {},
   "source": [
    "## Q3a. Write a program to compute the QR factorization of matrix A = QR, where Q is orthonormal and R is upper triangular. (refer to lecture notes for the theory). You may assume A consists of linearly independent vectors."
   ]
  },
  {
   "cell_type": "markdown",
   "metadata": {},
   "source": [
    "### A = QR\n",
    "### (Q^T)(A) = (Q^T)(Q)(R) = R\n",
    "### R = (Q^T)(R)\n",
    "#### (Q^T)(Q) = Identity I matrix if Q have orthonormal columns\n",
    "#### R is an upper trianger matrix"
   ]
  },
  {
   "cell_type": "code",
   "execution_count": 428,
   "metadata": {},
   "outputs": [],
   "source": [
    "A4 = np.array([\n",
    "    [2,3],\n",
    "    [2,4],\n",
    "    [1,1],\n",
    "])\n"
   ]
  },
  {
   "cell_type": "code",
   "execution_count": 443,
   "metadata": {},
   "outputs": [],
   "source": [
    "def gs(A): # gram schmidth process \n",
    "    # A IS  M X N MATRIX AND HAVE TI BE LINEARLY INDEPENDENT COLUMNS\n",
    "    m = len(A[:,0])\n",
    "    n = len(A[0])\n",
    "    #print(m)\n",
    "    ortho = np.zeros([m,n]) # orthogonal matrix\n",
    "    for i in range(0,n):\n",
    "        if(i == 0):\n",
    "            ortho[:,i] = A[:,i] # set x1 to v1\n",
    "            continue\n",
    "        x = A[:,i]\n",
    "        for j in range(0,i):\n",
    "            total = 0\n",
    "            length = 0\n",
    "            \n",
    "            for row in range(m): # x.v\n",
    "                total = total + (x[row] * ortho[:,j][row])\n",
    "                \n",
    "            for row in range(m): # v.v\n",
    "                length = length + (ortho[:,j][row] * ortho[:,j][row])\n",
    "                \n",
    "            scaler = total / (length)\n",
    "\n",
    "            x = x - (scaler * ortho[:,j])\n",
    "        ortho[:,i] = x\n",
    "    print(\"Before normalising\")\n",
    "    print(ortho)\n",
    "    print(\"\\n\")\n",
    "    # NORMALIZATION PROCESS \n",
    "    for col in range(n):\n",
    "        total = 0\n",
    "        for row in range(m):\n",
    "            total = total + (ortho[:,col][row] * ortho[:,col][row] ) # ||v||^2\n",
    "        norm = 1/ sqrt(total) #||v||\n",
    "        \n",
    "        ortho[:,col] = norm * ortho[:,col]\n",
    "     \n",
    "    print(\"After performing Gram schmidt on the matrix and normalising\")\n",
    "    print(\"Produce a orthogonal matrix, with orthonormal columns (unit length 1)\")\n",
    "    print(ortho)\n",
    "    print(\"\\n\")\n",
    "    \n",
    "    orthoganal(ortho)\n",
    "    \n",
    "    return ortho # Q"
   ]
  },
  {
   "cell_type": "code",
   "execution_count": 444,
   "metadata": {},
   "outputs": [
    {
     "name": "stdout",
     "output_type": "stream",
     "text": [
      "Before normalising\n",
      "[[ 2.         -0.33333333]\n",
      " [ 2.          0.66666667]\n",
      " [ 1.         -0.66666667]]\n",
      "\n",
      "\n",
      "After performing Gram schmidt on the matrix and normalising\n",
      "Produce a orthogonal matrix, with orthonormal columns (unit length 1)\n",
      "[[ 0.66666667 -0.33333333]\n",
      " [ 0.66666667  0.66666667]\n",
      " [ 0.33333333 -0.66666667]]\n",
      "\n",
      "\n",
      "Coulum A0 dot Column A1\n",
      "The dot product may not be exactly 0 but very small or close to zero due to floating point conversion\n",
      "The dot product is 0\n",
      "Coulum A0 dot Column A1 is orthogonal\n",
      "\n",
      "\n"
     ]
    }
   ],
   "source": [
    "Q = gs(A4)"
   ]
  },
  {
   "cell_type": "code",
   "execution_count": 445,
   "metadata": {},
   "outputs": [],
   "source": [
    "def QR_decomposition(Q,A):\n",
    "    #(Q^T)(A) = (Q^T)(Q)(R) = R\n",
    "    \n",
    "    #tranpose Q\n",
    "    m = len(Q[:,0])\n",
    "    n = len(Q[0])\n",
    "    Q_trans = np.zeros([n,m]) \n",
    "    \n",
    "    # iterate through rows\n",
    "    for i in range(m):\n",
    "   # iterate through columns\n",
    "       for j in range(n):\n",
    "        Q_trans[j][i] = Q[i][j]\n",
    "    #print(Q_trans)\n",
    "    R = np.zeros([n,n])\n",
    "    \n",
    "    #(Q^T)(A)\n",
    "    for i in range(len(Q_trans)):\n",
    "        for j in range(len(A[0])):\n",
    "            for k in range(len(A)):\n",
    "                R[i][j] = R[i][j] + (Q_trans[i][k] * A[k][j])\n",
    "                \n",
    "            if(R[i][j] < 1.0e-12): # due to computer arithmatic very small number floating point error round \n",
    "                R[i][j] = 0 #set very very small number to 0 due to floating round up error during arithmatic\n",
    "                    \n",
    "    print(R)"
   ]
  },
  {
   "cell_type": "code",
   "execution_count": 446,
   "metadata": {},
   "outputs": [
    {
     "name": "stdout",
     "output_type": "stream",
     "text": [
      "[[3. 5.]\n",
      " [0. 1.]]\n"
     ]
    }
   ],
   "source": [
    "QR_decomposition(Q,A4)"
   ]
  },
  {
   "cell_type": "code",
   "execution_count": 447,
   "metadata": {},
   "outputs": [
    {
     "name": "stdout",
     "output_type": "stream",
     "text": [
      "Before normalising\n",
      "[[1. 0. 0.]\n",
      " [0. 0. 5.]\n",
      " [0. 3. 0.]]\n",
      "\n",
      "\n",
      "After performing Gram schmidt on the matrix and normalising\n",
      "Produce a orthogonal matrix, with orthonormal columns (unit length 1)\n",
      "[[1. 0. 0.]\n",
      " [0. 0. 1.]\n",
      " [0. 1. 0.]]\n",
      "\n",
      "\n",
      "Coulum A0 dot Column A1\n",
      "The dot product may not be exactly 0 but very small or close to zero due to floating point conversion\n",
      "The dot product is 0\n",
      "Coulum A0 dot Column A1 is orthogonal\n",
      "\n",
      "\n",
      "Coulum A0 dot Column A2\n",
      "The dot product may not be exactly 0 but very small or close to zero due to floating point conversion\n",
      "The dot product is 0\n",
      "Coulum A0 dot Column A2 is orthogonal\n",
      "\n",
      "\n",
      "Coulum A1 dot Column A2\n",
      "The dot product may not be exactly 0 but very small or close to zero due to floating point conversion\n",
      "The dot product is 0\n",
      "Coulum A1 dot Column A2 is orthogonal\n",
      "\n",
      "\n"
     ]
    }
   ],
   "source": [
    "Q = gs(A3)\n"
   ]
  },
  {
   "cell_type": "code",
   "execution_count": 448,
   "metadata": {},
   "outputs": [
    {
     "name": "stdout",
     "output_type": "stream",
     "text": [
      "[[1. 2. 4.]\n",
      " [0. 3. 6.]\n",
      " [0. 0. 5.]]\n"
     ]
    }
   ],
   "source": [
    "QR_decomposition(Q,A3)"
   ]
  },
  {
   "cell_type": "code",
   "execution_count": 452,
   "metadata": {},
   "outputs": [],
   "source": [
    "A5 = np.array([\n",
    "    [2,1],\n",
    "    [2,1],\n",
    "    [1,5]\n",
    "])\n"
   ]
  },
  {
   "cell_type": "code",
   "execution_count": 453,
   "metadata": {},
   "outputs": [
    {
     "name": "stdout",
     "output_type": "stream",
     "text": [
      "Before normalising\n",
      "[[ 2. -1.]\n",
      " [ 2. -1.]\n",
      " [ 1.  4.]]\n",
      "\n",
      "\n",
      "After performing Gram schmidt on the matrix and normalising\n",
      "Produce a orthogonal matrix, with orthonormal columns (unit length 1)\n",
      "[[ 0.66666667 -0.23570226]\n",
      " [ 0.66666667 -0.23570226]\n",
      " [ 0.33333333  0.94280904]]\n",
      "\n",
      "\n",
      "Coulum A0 dot Column A1\n",
      "The dot product may not be exactly 0 but very small or close to zero due to floating point conversion\n",
      "The dot product is 0\n",
      "Coulum A0 dot Column A1 is orthogonal\n",
      "\n",
      "\n"
     ]
    }
   ],
   "source": [
    "Q = gs(A5)"
   ]
  },
  {
   "cell_type": "code",
   "execution_count": 454,
   "metadata": {},
   "outputs": [
    {
     "name": "stdout",
     "output_type": "stream",
     "text": [
      "[[3.         3.        ]\n",
      " [0.         4.24264069]]\n"
     ]
    }
   ],
   "source": [
    "QR_decomposition(Q,A5)"
   ]
  },
  {
   "cell_type": "code",
   "execution_count": null,
   "metadata": {},
   "outputs": [],
   "source": []
  }
 ],
 "metadata": {
  "kernelspec": {
   "display_name": "Python 3",
   "language": "python",
   "name": "python3"
  },
  "language_info": {
   "codemirror_mode": {
    "name": "ipython",
    "version": 3
   },
   "file_extension": ".py",
   "mimetype": "text/x-python",
   "name": "python",
   "nbconvert_exporter": "python",
   "pygments_lexer": "ipython3",
   "version": "3.8.3"
  }
 },
 "nbformat": 4,
 "nbformat_minor": 4
}
